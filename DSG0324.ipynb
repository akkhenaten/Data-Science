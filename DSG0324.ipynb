{
 "cells": [
  {
   "cell_type": "code",
   "execution_count": 1,
   "id": "9849c9ac-13c7-4b38-9ce8-e415f7aeb494",
   "metadata": {},
   "outputs": [
    {
     "ename": "TypeError",
     "evalue": "'builtin_function_or_method' object is not subscriptable",
     "output_type": "error",
     "traceback": [
      "\u001b[1;31m---------------------------------------------------------------------------\u001b[0m",
      "\u001b[1;31mTypeError\u001b[0m                                 Traceback (most recent call last)",
      "Cell \u001b[1;32mIn[1], line 1\u001b[0m\n\u001b[1;32m----> 1\u001b[0m \u001b[38;5;28mprint\u001b[39m[\u001b[38;5;124m\"\u001b[39m\u001b[38;5;124mWaqas Kazim\u001b[39m\u001b[38;5;124m\"\u001b[39m]\n",
      "\u001b[1;31mTypeError\u001b[0m: 'builtin_function_or_method' object is not subscriptable"
     ]
    }
   ],
   "source": [
    "print[\"Waqas Kazim\"]"
   ]
  },
  {
   "cell_type": "code",
   "execution_count": 2,
   "id": "6fc5c508-5d8f-4d65-81fe-1b277299c787",
   "metadata": {},
   "outputs": [
    {
     "name": "stdout",
     "output_type": "stream",
     "text": [
      "Waqas Kazim!\n"
     ]
    }
   ],
   "source": [
    "print(\"Waqas Kazim!\")"
   ]
  },
  {
   "cell_type": "code",
   "execution_count": 3,
   "id": "e89db426-cad9-47df-b232-bcda6b646a90",
   "metadata": {},
   "outputs": [
    {
     "name": "stdout",
     "output_type": "stream",
     "text": [
      "Data Science\n"
     ]
    }
   ],
   "source": [
    "print(\"Data Science\")"
   ]
  },
  {
   "cell_type": "code",
   "execution_count": 5,
   "id": "b2822075-15b5-4c9a-927b-7bceba7f1a90",
   "metadata": {},
   "outputs": [
    {
     "data": {
      "text/plain": [
       "35"
      ]
     },
     "execution_count": 5,
     "metadata": {},
     "output_type": "execute_result"
    }
   ],
   "source": [
    "10+25"
   ]
  },
  {
   "cell_type": "markdown",
   "id": "d01829fc-e783-4cfc-a938-a0438d76e63c",
   "metadata": {},
   "source": [
    "Shortcuts"
   ]
  },
  {
   "cell_type": "code",
   "execution_count": null,
   "id": "81513121-7537-477c-bb76-18c764df92f6",
   "metadata": {},
   "outputs": [],
   "source": []
  }
 ],
 "metadata": {
  "kernelspec": {
   "display_name": "Python 3 (ipykernel)",
   "language": "python",
   "name": "python3"
  },
  "language_info": {
   "codemirror_mode": {
    "name": "ipython",
    "version": 3
   },
   "file_extension": ".py",
   "mimetype": "text/x-python",
   "name": "python",
   "nbconvert_exporter": "python",
   "pygments_lexer": "ipython3",
   "version": "3.11.7"
  }
 },
 "nbformat": 4,
 "nbformat_minor": 5
}
